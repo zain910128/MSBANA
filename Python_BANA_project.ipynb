{
  "nbformat": 4,
  "nbformat_minor": 0,
  "metadata": {
    "colab": {
      "name": "Python BANA project.ipynb",
      "provenance": [],
      "collapsed_sections": [],
      "authorship_tag": "ABX9TyOXqYTD5akCkVL1is7hm7Q/"
    },
    "kernelspec": {
      "name": "python3",
      "display_name": "Python 3"
    }
  },
  "cells": [
    {
      "cell_type": "markdown",
      "metadata": {
        "id": "EUgjlr0ovyMu",
        "colab_type": "text"
      },
      "source": [
        "# Python BANA Project\n",
        "## By: Mohammad Zain Khaishagi (M13457536)"
      ]
    },
    {
      "cell_type": "code",
      "metadata": {
        "id": "LbF8IJarvn1A",
        "colab_type": "code",
        "colab": {
          "base_uri": "https://localhost:8080/",
          "height": 34
        },
        "outputId": "9a7012bb-51f6-4556-c816-6a3832aef201"
      },
      "source": [
        "print(\"test commit\")\n"
      ],
      "execution_count": 1,
      "outputs": [
        {
          "output_type": "stream",
          "text": [
            "test commit\n"
          ],
          "name": "stdout"
        }
      ]
    },
    {
      "cell_type": "code",
      "metadata": {
        "id": "92nV1_uMYm28",
        "colab_type": "code",
        "colab": {}
      },
      "source": [
        ""
      ],
      "execution_count": 0,
      "outputs": []
    }
  ]
}